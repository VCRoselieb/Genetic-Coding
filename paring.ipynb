{
 "cells": [
  {
   "cell_type": "code",
   "execution_count": 1,
   "metadata": {},
   "outputs": [
    {
     "name": "stderr",
     "output_type": "stream",
     "text": [
      "Using TensorFlow backend.\n"
     ]
    }
   ],
   "source": [
    "# import libraries\n",
    "from __future__ import print_function\n",
    "import keras\n",
    "from keras.datasets import mnist\n",
    "from keras.models import Sequential\n",
    "from keras.layers import Dense, Dropout, Flatten\n",
    "from keras.layers import Conv2D, MaxPooling2D\n",
    "from keras import backend as K\n",
    "\n",
    "import os\n",
    "import glob\n",
    "import numpy as np\n",
    "import pandas as pd\n",
    "import matplotlib.pyplot as plt\n",
    "import seaborn as sns\n",
    "from PIL import Image, ImageDraw\n",
    "import random"
   ]
  },
  {
   "cell_type": "code",
   "execution_count": 2,
   "metadata": {},
   "outputs": [
    {
     "name": "stdout",
     "output_type": "stream",
     "text": [
      "[[array([0, 1, 1, 0, 1, 0])], [array([1, 0, 0, 0, 1, 0])], [array([0, 1, 1, 1, 0, 1])], [array([0, 1, 1, 1, 1, 1])]]\n"
     ]
    }
   ],
   "source": [
    "genomes =[]\n",
    "for i in range(4):\n",
    "    genomes.append([np.random.randint(2, size=6)]) # add 5 randomly initialised indiviudals\n",
    "    \n",
    "print(genomes)"
   ]
  },
  {
   "cell_type": "code",
   "execution_count": 3,
   "metadata": {},
   "outputs": [
    {
     "name": "stdout",
     "output_type": "stream",
     "text": [
      "[0.8, 0.9, 0.3, 0.81]\n"
     ]
    }
   ],
   "source": [
    "acc= [0.8,0.9,0.3,0.81]\n",
    "print(acc)"
   ]
  },
  {
   "cell_type": "code",
   "execution_count": null,
   "metadata": {},
   "outputs": [],
   "source": []
  },
  {
   "cell_type": "code",
   "execution_count": 4,
   "metadata": {},
   "outputs": [],
   "source": [
    "def selected(maxis, actualpop):\n",
    "    childs= []\n",
    "    maxis= np.array(maxis)\n",
    "    indices = maxis.argsort()[-4:][::-1]\n",
    "    print('Highest acc at')\n",
    "    print(indices)\n",
    "    parents= []\n",
    "    \n",
    "   \n",
    "    for ind in indices:    \n",
    "        parents.append(actualpop[ind])\n",
    "            \n",
    "   \n",
    "    \n",
    "    random.shuffle(parents)\n",
    "    f= 0\n",
    "    \n",
    "    #### was passiert ungerade zahl geht nicht und 50 eltern überleben\n",
    "    # 1 un2 2un3\n",
    "    while f < len(parents)-1: \n",
    "        mom = parents[f]\n",
    "        f= f +1\n",
    "        dad = parents[f]     \n",
    "        child = paring(mom,dad)\n",
    "        childs.append(child)\n",
    "        child = paring(dad,mom)\n",
    "        childs.append(child)\n",
    "        \n",
    "    parents = parents.append(childs) \n",
    "    return parents\n",
    "        \n",
    "    \n",
    "\n",
    "def paring(mom,dad):\n",
    "    return(np.concatenate((mom[:3], dad[3:]), axis=0))\n",
    "\n",
    "def entschachteln(genos):\n",
    "    print(len(genos))\n",
    "    neue = [0,0]\n",
    "    i = 0\n",
    "    for k in genos:\n",
    "        for l in k:\n",
    "            print(l)\n",
    "            neue[i] =l\n",
    "            i = i+1\n",
    "\n",
    "    return (neue)"
   ]
  },
  {
   "cell_type": "code",
   "execution_count": 5,
   "metadata": {},
   "outputs": [],
   "source": [
    "def fortpflanzung (maxis, actualpop):\n",
    "    childs= []\n",
    "    maxis= np.array(maxis)\n",
    "    indices = maxis.argsort()[-3:][::-1]\n",
    "    print('Highest acc at')\n",
    "    print(indices)\n",
    "    parents= []\n",
    "    \n",
    "    \n",
    "    for ind in indices:    \n",
    "        parents.append(actualpop[ind])\n",
    "   \n",
    "    random.shuffle(parents)\n",
    "    \n",
    "    f= 0\n",
    "    parents = entschachteln(parents)\n",
    "#     while f < len(parents)-1: \n",
    "#         mom = parents[f]\n",
    "#         f= f +1\n",
    "#         dad = parents[f]    \n",
    "        \n",
    "# #         decider = random.uniform(0, 1) # decides random how the cross-over works\n",
    "# #         if decider < 0.5 :\n",
    "# #             child = paring(mom,dad)\n",
    "# #             childs.append(child)\n",
    "# #         else:\n",
    "# #             child = paring(dad,mom)\n",
    "# #             childs.append(child)\n",
    "\n",
    "    \n",
    "#         child = paring(mom,dad)\n",
    "#         childs.append(child)\n",
    "    \n",
    "#             child = paring(dad,mom)\n",
    "#             childs.append(child)\n",
    "\n",
    "    while f < len(parents)-1: \n",
    "        mom = parents[f]\n",
    "        f= f +1\n",
    "        dad = parents[f]     \n",
    "        child = paring(mom,dad)\n",
    "        childs.append(child)\n",
    "        child = paring(dad,mom)\n",
    "        childs.append(child)\n",
    "    \n",
    "    parents = np.concatenate((parents, childs), axis=0) \n",
    "    return parents\n",
    "        \n",
    "        "
   ]
  },
  {
   "cell_type": "code",
   "execution_count": 6,
   "metadata": {},
   "outputs": [
    {
     "name": "stdout",
     "output_type": "stream",
     "text": [
      "[[array([0, 1, 1, 0, 1, 0])], [array([1, 0, 0, 0, 1, 0])], [array([0, 1, 1, 1, 0, 1])], [array([0, 1, 1, 1, 1, 1])]]\n",
      "[0.8, 0.9, 0.3, 0.81]\n",
      "Highest acc at\n",
      "[1 3]\n",
      "2\n",
      "[0 1 1 1 1 1]\n",
      "[1 0 0 0 1 0]\n",
      "P\n",
      "[array([0, 1, 1, 1, 1, 1]), array([1, 0, 0, 0, 1, 0])]\n",
      "C\n",
      "[array([0, 1, 1, 0, 1, 0]), array([1, 0, 0, 1, 1, 1])]\n",
      "[[0 1 1 1 1 1]\n",
      " [1 0 0 0 1 0]\n",
      " [0 1 1 0 1 0]\n",
      " [1 0 0 1 1 1]]\n"
     ]
    }
   ],
   "source": [
    "print(genomes)\n",
    "print(acc)\n",
    "print(fortpflanzung(acc, genomes))"
   ]
  },
  {
   "cell_type": "code",
   "execution_count": 7,
   "metadata": {},
   "outputs": [
    {
     "name": "stdout",
     "output_type": "stream",
     "text": [
      "[[array([0, 1, 1, 0, 1, 0])], [array([1, 0, 0, 0, 1, 0])], [array([0, 1, 1, 1, 0, 1])], array([[0, 1, 1, 1, 1, 1]])]\n"
     ]
    }
   ],
   "source": [
    "\n",
    "\n",
    "\n",
    "def mutation(popul):\n",
    "    position = random.randrange(0, len(genomes))\n",
    "    gencode = popul[position]\n",
    "    \n",
    "    decider = random.uniform(0, 1)\n",
    "    posi = 0\n",
    "    if decider < 0.2 :\n",
    "        posi = random.randrange(0, len(gencode))\n",
    "    \n",
    "        if gencode[posi] == 1:\n",
    "            gencode[posi] = 0\n",
    "        elif gencode[posi] == 0:\n",
    "            gencode[posi] = 1\n",
    "            \n",
    "    popul[position] = np.array(gencode)\n",
    "    \n",
    "    return popul\n",
    "    \n",
    "    \n",
    "    \n",
    "        \n",
    "    \n",
    "\n",
    "print(mutation(genomes))"
   ]
  },
  {
   "cell_type": "code",
   "execution_count": null,
   "metadata": {},
   "outputs": [],
   "source": []
  },
  {
   "cell_type": "code",
   "execution_count": null,
   "metadata": {},
   "outputs": [],
   "source": []
  }
 ],
 "metadata": {
  "kernelspec": {
   "display_name": "Python 3",
   "language": "python",
   "name": "python3"
  },
  "language_info": {
   "codemirror_mode": {
    "name": "ipython",
    "version": 3
   },
   "file_extension": ".py",
   "mimetype": "text/x-python",
   "name": "python",
   "nbconvert_exporter": "python",
   "pygments_lexer": "ipython3",
   "version": "3.7.3"
  }
 },
 "nbformat": 4,
 "nbformat_minor": 2
}
