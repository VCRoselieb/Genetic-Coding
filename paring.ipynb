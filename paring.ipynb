{
 "cells": [
  {
   "cell_type": "code",
   "execution_count": 1,
   "metadata": {},
   "outputs": [
    {
     "name": "stderr",
     "output_type": "stream",
     "text": [
      "Using TensorFlow backend.\n"
     ]
    }
   ],
   "source": [
    "# import libraries\n",
    "from __future__ import print_function\n",
    "import keras\n",
    "from keras.datasets import mnist\n",
    "from keras.models import Sequential\n",
    "from keras.layers import Dense, Dropout, Flatten\n",
    "from keras.layers import Conv2D, MaxPooling2D\n",
    "from keras import backend as K\n",
    "\n",
    "import os\n",
    "import glob\n",
    "import numpy as np\n",
    "import pandas as pd\n",
    "import matplotlib.pyplot as plt\n",
    "import seaborn as sns\n",
    "from PIL import Image, ImageDraw\n",
    "import random"
   ]
  },
  {
   "cell_type": "code",
   "execution_count": 2,
   "metadata": {},
   "outputs": [
    {
     "name": "stdout",
     "output_type": "stream",
     "text": [
      "[[array([0, 0, 1, 1, 0, 0])], [array([0, 1, 1, 0, 0, 0])], [array([0, 1, 0, 0, 0, 1])], [array([1, 1, 1, 0, 0, 0])]]\n"
     ]
    }
   ],
   "source": [
    "genomes =[]\n",
    "for i in range(4):\n",
    "    genomes.append([np.random.randint(2, size=6)]) # add 5 randomly initialised indiviudals\n",
    "    \n",
    "print(genomes)"
   ]
  },
  {
   "cell_type": "code",
   "execution_count": 3,
   "metadata": {},
   "outputs": [
    {
     "name": "stdout",
     "output_type": "stream",
     "text": [
      "[0.8  0.9  0.3  0.81]\n"
     ]
    }
   ],
   "source": [
    "acc= np.array([0.8,0.9,0.3,0.81])\n",
    "print(acc)"
   ]
  },
  {
   "cell_type": "code",
   "execution_count": null,
   "metadata": {},
   "outputs": [],
   "source": []
  },
  {
   "cell_type": "code",
   "execution_count": 4,
   "metadata": {},
   "outputs": [],
   "source": [
    "def selected(maxis):\n",
    "    childs= []\n",
    "   \n",
    "    indices = maxis.argsort()[-2:][::-1]\n",
    "    parents= []\n",
    "    for ind in indices:\n",
    "        r = 0\n",
    "        for k in genomes[ind]:\n",
    "         \n",
    "            k=list(k)\n",
    "            parents.append(k)\n",
    "            r = r+1\n",
    "   \n",
    "    \n",
    "    random.shuffle(parents)\n",
    "    print(parents)\n",
    "    f= 0\n",
    "    while f < len(parents)-1: \n",
    "        mom = parents[f]\n",
    "        f= f +1\n",
    "        dad = parents[f]     \n",
    "        child = paring(mom,dad)\n",
    "        childs.append(child)\n",
    "        child = paring(dad,mom)\n",
    "        childs.append(child)\n",
    "        \n",
    "        \n",
    "    return childs\n",
    "        \n",
    "    \n",
    "\n",
    "def paring(mom,dad):\n",
    "    return(np.concatenate((mom[:3], dad[3:]), axis=0))"
   ]
  },
  {
   "cell_type": "code",
   "execution_count": null,
   "metadata": {},
   "outputs": [],
   "source": []
  },
  {
   "cell_type": "code",
   "execution_count": 96,
   "metadata": {},
   "outputs": [
    {
     "name": "stdout",
     "output_type": "stream",
     "text": [
      "[[1, 0, 1, 0, 1, 0], [0, 1, 1, 1, 0, 1]]\n",
      "parents\n",
      "[1, 0, 1, 0, 1, 0]\n",
      "[0, 1, 1, 1, 0, 1]\n",
      "[array([1, 0, 1, 1, 0, 1]), array([0, 1, 1, 0, 1, 0])]\n"
     ]
    }
   ],
   "source": [
    "print(selected(acc))"
   ]
  },
  {
   "cell_type": "code",
   "execution_count": 41,
   "metadata": {},
   "outputs": [
    {
     "name": "stdout",
     "output_type": "stream",
     "text": [
      "[0 1 0 0 0 1]\n",
      "[array([0, 0, 0, 1, 0, 1]), array([0, 0, 0, 0, 0, 0]), array([0, 1, 0, 0, 0, 1]), array([[1, 1, 1, 0, 1, 0]])]\n"
     ]
    }
   ],
   "source": [
    "\n",
    "\n",
    "\n",
    "def mutation(popul):\n",
    "    position = random.randrange(0, len(genomes))\n",
    "    gencode = popul[position]\n",
    "    \n",
    "    decider = random.uniform(0, 1)\n",
    "    posi = 0\n",
    "    if decider < 0.2 :\n",
    "        posi = random.randrange(0, len(gencode))\n",
    "    \n",
    "        if gencode[posi] == 1:\n",
    "            gencode[posi] = 0\n",
    "        elif gencode[posi] == 0:\n",
    "            gencode[posi] = 1\n",
    "            \n",
    "    print(gencode)\n",
    "    popul[position] = np.array(gencode)\n",
    "    \n",
    "        \n",
    "    \n",
    "mutation(genomes)\n",
    "print(genomes)"
   ]
  },
  {
   "cell_type": "code",
   "execution_count": null,
   "metadata": {},
   "outputs": [],
   "source": []
  },
  {
   "cell_type": "code",
   "execution_count": null,
   "metadata": {},
   "outputs": [],
   "source": []
  }
 ],
 "metadata": {
  "kernelspec": {
   "display_name": "Python 3",
   "language": "python",
   "name": "python3"
  },
  "language_info": {
   "codemirror_mode": {
    "name": "ipython",
    "version": 3
   },
   "file_extension": ".py",
   "mimetype": "text/x-python",
   "name": "python",
   "nbconvert_exporter": "python",
   "pygments_lexer": "ipython3",
   "version": "3.7.3"
  }
 },
 "nbformat": 4,
 "nbformat_minor": 2
}
