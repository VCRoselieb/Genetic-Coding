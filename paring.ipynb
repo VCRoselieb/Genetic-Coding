{
 "cells": [
  {
   "cell_type": "code",
   "execution_count": 53,
   "metadata": {},
   "outputs": [],
   "source": [
    "# import libraries\n",
    "import os\n",
    "import glob\n",
    "import numpy as np\n",
    "import pandas as pd\n",
    "import matplotlib.pyplot as plt\n",
    "import seaborn as sns\n",
    "from PIL import Image, ImageDraw"
   ]
  },
  {
   "cell_type": "code",
   "execution_count": 54,
   "metadata": {},
   "outputs": [],
   "source": [
    "genomes =[]\n",
    "for i in range(4):\n",
    "    genomes.append([np.random.randint(2, size=6)]) # add 5 randomly initialised indiviudals"
   ]
  },
  {
   "cell_type": "code",
   "execution_count": 55,
   "metadata": {},
   "outputs": [],
   "source": [
    "acc= [50.8,0.9,0.3,0.4]"
   ]
  },
  {
   "cell_type": "code",
   "execution_count": null,
   "metadata": {},
   "outputs": [],
   "source": [
    "\n"
   ]
  },
  {
   "cell_type": "code",
   "execution_count": 56,
   "metadata": {},
   "outputs": [
    {
     "name": "stdout",
     "output_type": "stream",
     "text": [
      "[[array([1, 1, 0, 0, 1, 0])], [array([1, 0, 0, 0, 0, 1])], [array([1, 0, 1, 0, 0, 0])], [array([1, 1, 0, 0, 1, 1])]]\n",
      "[1 0 0 0 0 1]\n",
      "[1 1 0 0 1 0]\n",
      "[5 4 4]\n",
      "[1 0 0 0 1 0]\n"
     ]
    }
   ],
   "source": [
    "#paring\n",
    "print(genomes)\n",
    "s= genomes[1]\n",
    "d = genomes[0]\n",
    "a = s[0]\n",
    "b = d[0]\n",
    "child= [3,3,3,3,3,3]\n",
    "print(a)\n",
    "print(b)\n",
    "childa = np.concatenate((a[:3], b[3:]), axis=0)\n",
    "\n",
    "\n",
    "\n",
    "print(childa)"
   ]
  },
  {
   "cell_type": "code",
   "execution_count": null,
   "metadata": {},
   "outputs": [],
   "source": []
  },
  {
   "cell_type": "code",
   "execution_count": null,
   "metadata": {},
   "outputs": [],
   "source": []
  }
 ],
 "metadata": {
  "kernelspec": {
   "display_name": "Python 3",
   "language": "python",
   "name": "python3"
  },
  "language_info": {
   "codemirror_mode": {
    "name": "ipython",
    "version": 3
   },
   "file_extension": ".py",
   "mimetype": "text/x-python",
   "name": "python",
   "nbconvert_exporter": "python",
   "pygments_lexer": "ipython3",
   "version": "3.7.3"
  }
 },
 "nbformat": 4,
 "nbformat_minor": 2
}
