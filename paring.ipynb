{
 "cells": [
  {
   "cell_type": "code",
   "execution_count": 1,
   "metadata": {},
   "outputs": [
    {
     "name": "stderr",
     "output_type": "stream",
     "text": [
      "Using TensorFlow backend.\n"
     ]
    }
   ],
   "source": [
    "# import libraries\n",
    "from __future__ import print_function\n",
    "import keras\n",
    "from keras.datasets import mnist\n",
    "from keras.models import Sequential\n",
    "from keras.layers import Dense, Dropout, Flatten\n",
    "from keras.layers import Conv2D, MaxPooling2D\n",
    "from keras import backend as K\n",
    "\n",
    "import os\n",
    "import glob\n",
    "import numpy as np\n",
    "import pandas as pd\n",
    "import matplotlib.pyplot as plt\n",
    "import seaborn as sns\n",
    "from PIL import Image, ImageDraw\n",
    "import random"
   ]
  },
  {
   "cell_type": "code",
   "execution_count": 2,
   "metadata": {},
   "outputs": [
    {
     "name": "stdout",
     "output_type": "stream",
     "text": [
      "[[array([1, 1, 1, 0, 0, 1])], [array([1, 0, 0, 1, 0, 1])], [array([0, 0, 1, 1, 1, 0])], [array([1, 0, 1, 1, 0, 1])]]\n"
     ]
    }
   ],
   "source": [
    "genomes =[]\n",
    "for i in range(4):\n",
    "    genomes.append([np.random.randint(2, size=6)]) # add 5 randomly initialised indiviudals\n",
    "    \n",
    "print(genomes)"
   ]
  },
  {
   "cell_type": "code",
   "execution_count": 3,
   "metadata": {},
   "outputs": [
    {
     "name": "stdout",
     "output_type": "stream",
     "text": [
      "[0.8, 0.9, 0.3, 0.81]\n"
     ]
    }
   ],
   "source": [
    "acc= [0.8,0.9,0.3,0.81]\n",
    "print(acc)"
   ]
  },
  {
   "cell_type": "code",
   "execution_count": null,
   "metadata": {},
   "outputs": [],
   "source": []
  },
  {
   "cell_type": "code",
   "execution_count": 14,
   "metadata": {},
   "outputs": [],
   "source": [
    "def selected(maxis, actualpop):\n",
    "    childs= []\n",
    "    maxis= np.array(maxis)\n",
    "    indices = maxis.argsort()[-4:][::-1]\n",
    "    print('Highest acc at')\n",
    "    print(indices)\n",
    "    parents= []\n",
    "    \n",
    "   \n",
    "    for ind in indices:    \n",
    "        parents.append(actualpop[ind])\n",
    "            \n",
    "   \n",
    "    \n",
    "    random.shuffle(parents)\n",
    "    f= 0\n",
    "    \n",
    "    #### was passiert ungerade zahl geht nicht und 50 eltern überleben\n",
    "    # 1 un2 2un3\n",
    "    while f < len(parents)-1: \n",
    "        mom = parents[f]\n",
    "        f= f +1\n",
    "        dad = parents[f]     \n",
    "        child = paring(mom,dad)\n",
    "        childs.append(child)\n",
    "        child = paring(dad,mom)\n",
    "        childs.append(child)\n",
    "        \n",
    "    parents = parents.append(childs) \n",
    "    return parents\n",
    "        \n",
    "    \n",
    "\n",
    "def paring(mom,dad):\n",
    "    return(np.concatenate((mom[:3], dad[3:]), axis=0))\n",
    "\n",
    "def entschachteln(genos):\n",
    "    #print(len(genos))\n",
    "    neue = [0,0]\n",
    "    i = 0\n",
    "    for k in genos:\n",
    "        for l in k:\n",
    "            #print(l)\n",
    "            neue[i] =l\n",
    "            i = i+1\n",
    "\n",
    "    return (neue)\n"
   ]
  },
  {
   "cell_type": "code",
   "execution_count": 5,
   "metadata": {},
   "outputs": [],
   "source": [
    "def fortpflanzung (maxis, actualpop):\n",
    "    childs= []\n",
    "    maxis= np.array(maxis)\n",
    "    indices = maxis.argsort()[-3:][::-1]\n",
    "    print('Highest acc at')\n",
    "    print(indices)\n",
    "    parents= []\n",
    "    \n",
    "    \n",
    "    for ind in indices:    \n",
    "        parents.append(actualpop[ind])\n",
    "   \n",
    "    random.shuffle(parents)\n",
    "    \n",
    "    f= 0\n",
    "    parents = entschachteln(parents)\n",
    "#     while f < len(parents)-1: \n",
    "#         mom = parents[f]\n",
    "#         f= f +1\n",
    "#         dad = parents[f]    \n",
    "        \n",
    "# #         decider = random.uniform(0, 1) # decides random how the cross-over works\n",
    "# #         if decider < 0.5 :\n",
    "# #             child = paring(mom,dad)\n",
    "# #             childs.append(child)\n",
    "# #         else:\n",
    "# #             child = paring(dad,mom)\n",
    "# #             childs.append(child)\n",
    "\n",
    "    \n",
    "#         child = paring(mom,dad)\n",
    "#         childs.append(child)\n",
    "    \n",
    "#             child = paring(dad,mom)\n",
    "#             childs.append(child)\n",
    "\n",
    "    while f < len(parents)-1: \n",
    "        mom = parents[f]\n",
    "        f= f +1\n",
    "        dad = parents[f]     \n",
    "        child = paring(mom,dad)\n",
    "        childs.append(child)\n",
    "        child = paring(dad,mom)\n",
    "        childs.append(child)\n",
    "    \n",
    "    parents = np.concatenate((parents, childs), axis=0) \n",
    "    return parents\n",
    "        \n",
    "        "
   ]
  },
  {
   "cell_type": "code",
   "execution_count": 6,
   "metadata": {},
   "outputs": [
    {
     "name": "stdout",
     "output_type": "stream",
     "text": [
      "[[array([1, 1, 1, 0, 0, 1])], [array([1, 0, 0, 1, 0, 1])], [array([0, 0, 1, 1, 1, 0])], [array([1, 0, 1, 1, 0, 1])]]\n",
      "[0.8, 0.9, 0.3, 0.81]\n",
      "Highest acc at\n",
      "[1 3 0]\n",
      "3\n",
      "[1 1 1 0 0 1]\n",
      "[1 0 1 1 0 1]\n",
      "[1 0 0 1 0 1]\n"
     ]
    },
    {
     "ename": "IndexError",
     "evalue": "list assignment index out of range",
     "output_type": "error",
     "traceback": [
      "\u001b[1;31m---------------------------------------------------------------------------\u001b[0m",
      "\u001b[1;31mIndexError\u001b[0m                                Traceback (most recent call last)",
      "\u001b[1;32m<ipython-input-6-e1b62d739580>\u001b[0m in \u001b[0;36m<module>\u001b[1;34m\u001b[0m\n\u001b[0;32m      1\u001b[0m \u001b[0mprint\u001b[0m\u001b[1;33m(\u001b[0m\u001b[0mgenomes\u001b[0m\u001b[1;33m)\u001b[0m\u001b[1;33m\u001b[0m\u001b[1;33m\u001b[0m\u001b[0m\n\u001b[0;32m      2\u001b[0m \u001b[0mprint\u001b[0m\u001b[1;33m(\u001b[0m\u001b[0macc\u001b[0m\u001b[1;33m)\u001b[0m\u001b[1;33m\u001b[0m\u001b[1;33m\u001b[0m\u001b[0m\n\u001b[1;32m----> 3\u001b[1;33m \u001b[0mprint\u001b[0m\u001b[1;33m(\u001b[0m\u001b[0mfortpflanzung\u001b[0m\u001b[1;33m(\u001b[0m\u001b[0macc\u001b[0m\u001b[1;33m,\u001b[0m \u001b[0mgenomes\u001b[0m\u001b[1;33m)\u001b[0m\u001b[1;33m)\u001b[0m\u001b[1;33m\u001b[0m\u001b[1;33m\u001b[0m\u001b[0m\n\u001b[0m",
      "\u001b[1;32m<ipython-input-5-93a6cd2d9cdc>\u001b[0m in \u001b[0;36mfortpflanzung\u001b[1;34m(maxis, actualpop)\u001b[0m\n\u001b[0;32m     14\u001b[0m \u001b[1;33m\u001b[0m\u001b[0m\n\u001b[0;32m     15\u001b[0m     \u001b[0mf\u001b[0m\u001b[1;33m=\u001b[0m \u001b[1;36m0\u001b[0m\u001b[1;33m\u001b[0m\u001b[1;33m\u001b[0m\u001b[0m\n\u001b[1;32m---> 16\u001b[1;33m     \u001b[0mparents\u001b[0m \u001b[1;33m=\u001b[0m \u001b[0mentschachteln\u001b[0m\u001b[1;33m(\u001b[0m\u001b[0mparents\u001b[0m\u001b[1;33m)\u001b[0m\u001b[1;33m\u001b[0m\u001b[1;33m\u001b[0m\u001b[0m\n\u001b[0m\u001b[0;32m     17\u001b[0m \u001b[1;31m#     while f < len(parents)-1:\u001b[0m\u001b[1;33m\u001b[0m\u001b[1;33m\u001b[0m\u001b[1;33m\u001b[0m\u001b[0m\n\u001b[0;32m     18\u001b[0m \u001b[1;31m#         mom = parents[f]\u001b[0m\u001b[1;33m\u001b[0m\u001b[1;33m\u001b[0m\u001b[1;33m\u001b[0m\u001b[0m\n",
      "\u001b[1;32m<ipython-input-4-a7fc275985d0>\u001b[0m in \u001b[0;36mentschachteln\u001b[1;34m(genos)\u001b[0m\n\u001b[0;32m     42\u001b[0m         \u001b[1;32mfor\u001b[0m \u001b[0ml\u001b[0m \u001b[1;32min\u001b[0m \u001b[0mk\u001b[0m\u001b[1;33m:\u001b[0m\u001b[1;33m\u001b[0m\u001b[1;33m\u001b[0m\u001b[0m\n\u001b[0;32m     43\u001b[0m             \u001b[0mprint\u001b[0m\u001b[1;33m(\u001b[0m\u001b[0ml\u001b[0m\u001b[1;33m)\u001b[0m\u001b[1;33m\u001b[0m\u001b[1;33m\u001b[0m\u001b[0m\n\u001b[1;32m---> 44\u001b[1;33m             \u001b[0mneue\u001b[0m\u001b[1;33m[\u001b[0m\u001b[0mi\u001b[0m\u001b[1;33m]\u001b[0m \u001b[1;33m=\u001b[0m\u001b[0ml\u001b[0m\u001b[1;33m\u001b[0m\u001b[1;33m\u001b[0m\u001b[0m\n\u001b[0m\u001b[0;32m     45\u001b[0m             \u001b[0mi\u001b[0m \u001b[1;33m=\u001b[0m \u001b[0mi\u001b[0m\u001b[1;33m+\u001b[0m\u001b[1;36m1\u001b[0m\u001b[1;33m\u001b[0m\u001b[1;33m\u001b[0m\u001b[0m\n\u001b[0;32m     46\u001b[0m \u001b[1;33m\u001b[0m\u001b[0m\n",
      "\u001b[1;31mIndexError\u001b[0m: list assignment index out of range"
     ]
    }
   ],
   "source": [
    "print(genomes)\n",
    "print(acc)\n",
    "print(fortpflanzung(acc, genomes))"
   ]
  },
  {
   "cell_type": "code",
   "execution_count": 35,
   "metadata": {},
   "outputs": [],
   "source": [
    "\n",
    "\n",
    "\n",
    "def mutationeach(popul):\n",
    "  \n",
    "    i = 0    \n",
    "    for gencode in popul:\n",
    "        decider = random.uniform(0, 1)\n",
    "        if decider < 0.71: \n",
    "            print('Muation')\n",
    "            posi = 0\n",
    "            posi = random.randrange(0, len(gencode))\n",
    "           \n",
    "            if gencode[posi] == 1:\n",
    "                gencode[posi] = 0\n",
    "            elif gencode[posi] == 0:\n",
    "                gencode[posi] = 1\n",
    "            p\n",
    "            popul[i] = np.array(gencode)\n",
    "        else:\n",
    "            \n",
    "        i = i +1\n",
    "    \n",
    "\n",
    "            \n",
    "    \n",
    "    return popul\n",
    "    \n",
    "    \n"
   ]
  },
  {
   "cell_type": "code",
   "execution_count": 36,
   "metadata": {},
   "outputs": [
    {
     "name": "stdout",
     "output_type": "stream",
     "text": [
      "[[array([1, 1, 1, 0, 0, 1])], [array([1, 0, 0, 1, 0, 1])], [array([0, 0, 1, 1, 1, 0])], array([[1, 0, 1, 1, 0, 1]])]\n"
     ]
    }
   ],
   "source": [
    "print(genomes)"
   ]
  },
  {
   "cell_type": "code",
   "execution_count": 37,
   "metadata": {},
   "outputs": [
    {
     "name": "stdout",
     "output_type": "stream",
     "text": [
      "[[1, 1, 1, 0, 0, 1], [1, 0, 0, 1, 0, 1], [0, 0, 1, 1, 1, 0], [1, 0, 1, 1, 0, 1]]\n",
      "Nein\n",
      "FFF\n",
      "2\n",
      "[1, 0, 0, 1, 0, 1]\n",
      "NEW\n",
      "[1, 0, 1, 1, 0, 1]\n",
      "FFF\n",
      "2\n",
      "[0, 0, 1, 1, 1, 0]\n",
      "NEW\n",
      "[0, 0, 0, 1, 1, 0]\n",
      "FFF\n",
      "5\n",
      "[1, 0, 1, 1, 0, 1]\n",
      "NEW\n",
      "[1, 0, 1, 1, 0, 0]\n",
      "[[1, 1, 1, 0, 0, 1], array([1, 0, 1, 1, 0, 1]), array([0, 0, 0, 1, 1, 0]), array([1, 0, 1, 1, 0, 0])]\n"
     ]
    }
   ],
   "source": [
    "actualpop= [[1, 1, 1, 0, 0, 1], [1, 0, 0, 1, 0, 1], [0, 0, 1, 1, 1, 0], [1, 0, 1, 1, 0, 1]]\n",
    "print(actualpop)\n",
    "print(mutationeach(actualpop))"
   ]
  },
  {
   "cell_type": "code",
   "execution_count": null,
   "metadata": {},
   "outputs": [],
   "source": []
  }
 ],
 "metadata": {
  "kernelspec": {
   "display_name": "Python 3",
   "language": "python",
   "name": "python3"
  },
  "language_info": {
   "codemirror_mode": {
    "name": "ipython",
    "version": 3
   },
   "file_extension": ".py",
   "mimetype": "text/x-python",
   "name": "python",
   "nbconvert_exporter": "python",
   "pygments_lexer": "ipython3",
   "version": "3.7.3"
  }
 },
 "nbformat": 4,
 "nbformat_minor": 2
}
